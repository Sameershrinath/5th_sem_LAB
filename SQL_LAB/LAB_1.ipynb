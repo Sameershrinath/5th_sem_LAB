{
 "cells": [
  {
   "cell_type": "markdown",
   "id": "fef03441",
   "metadata": {},
   "source": [
    "# Write  a program to store students record (roll no., Name, Father name) of a class using file handling."
   ]
  },
  {
   "cell_type": "code",
   "execution_count": 1,
   "id": "7ef078ca",
   "metadata": {},
   "outputs": [
    {
     "name": "stdout",
     "output_type": "stream",
     "text": [
      "********************\n",
      "Enter data : 1 \n",
      " Show data: 2 \n",
      " Exit : 3\n",
      "********************\n",
      "Enter data : 1 \n",
      " Show data: 2 \n",
      " Exit : 3\n",
      "    Name  Roll No. Father Name\n",
      "0  Samir   2347454    amarnath\n",
      "********************\n",
      "Enter data : 1 \n",
      " Show data: 2 \n",
      " Exit : 3\n",
      "    Name  Roll No. Father Name\n",
      "0  Samir   2347454    amarnath\n",
      "********************\n",
      "Enter data : 1 \n",
      " Show data: 2 \n",
      " Exit : 3\n",
      "    Name  Roll No. Father Name\n",
      "0  samir   2347454    amarnath\n"
     ]
    }
   ],
   "source": [
    "import pandas as pd \n",
    "\n",
    "df=pd.read_csv(\"./students.csv\",index_col=False)\n",
    "Roll_li=[]\n",
    "name_li=[]\n",
    "Father_name_li=[]\n",
    "while True:\n",
    "    print(\"*\"*20)\n",
    "    print(\"Enter data : 1 \\n Show data: 2 \\n Exit : 3\")\n",
    "    choice=input(\"Enter your choice\")\n",
    "    if choice==\"1\":\n",
    "        ROllno=int(input(\"Enter your Roll no.\"))\n",
    "        name=input(\"Enter your name\")\n",
    "        Father_name=input(\"Enter your Father name\")\n",
    "        Roll_li.append(ROllno)\n",
    "        name_li.append(name)\n",
    "        Father_name_li.append(Father_name)\n",
    "    if choice==\"2\":\n",
    "        print(df)\n",
    "    if choice ==\"3\":\n",
    "        break\n",
    "dict={\n",
    "    \"Name\":name_li,\n",
    "    \"Roll No.\":Roll_li,\n",
    "    \"Father Name\":Father_name_li\n",
    "}\n",
    "df = pd.DataFrame(dict)\n",
    "df.to_csv(\"students.csv\", index=False)\n",
    "print(df)"
   ]
  },
  {
   "cell_type": "code",
   "execution_count": 1,
   "id": "6ad3fa88",
   "metadata": {},
   "outputs": [],
   "source": [
    "import pandas as pd"
   ]
  },
  {
   "cell_type": "code",
   "execution_count": null,
   "id": "b3c06caf",
   "metadata": {},
   "outputs": [],
   "source": []
  },
  {
   "cell_type": "code",
   "execution_count": null,
   "id": "99e1b094",
   "metadata": {},
   "outputs": [],
   "source": []
  }
 ],
 "metadata": {
  "kernelspec": {
   "display_name": "base",
   "language": "python",
   "name": "python3"
  },
  "language_info": {
   "codemirror_mode": {
    "name": "ipython",
    "version": 3
   },
   "file_extension": ".py",
   "mimetype": "text/x-python",
   "name": "python",
   "nbconvert_exporter": "python",
   "pygments_lexer": "ipython3",
   "version": "3.11.5"
  }
 },
 "nbformat": 4,
 "nbformat_minor": 5
}
