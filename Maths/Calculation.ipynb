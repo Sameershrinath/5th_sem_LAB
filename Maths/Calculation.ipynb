{
 "cells": [
  {
   "cell_type": "markdown",
   "id": "ee1fc5b0",
   "metadata": {},
   "source": [
    "# **Formula application and logic building**"
   ]
  },
  {
   "cell_type": "markdown",
   "id": "e4689a65",
   "metadata": {},
   "source": [
    "## Mean Median Mode"
   ]
  },
  {
   "cell_type": "code",
   "execution_count": 10,
   "id": "2456f430",
   "metadata": {},
   "outputs": [],
   "source": [
    "import random \n",
    "li=[random.randint(1,100) for i in range(100)]\n",
    "n=len(li)//2\n",
    "li.sort()\n",
    "Mean=sum(li)/len(li)\n",
    "median=(li[n]+li[n+1])/2"
   ]
  },
  {
   "cell_type": "code",
   "execution_count": 21,
   "id": "a26c0067",
   "metadata": {},
   "outputs": [],
   "source": [
    "def mode(li):\n",
    "    max=0\n",
    "    number=0\n",
    "    count=0\n",
    "    num=[]\n",
    "    for i in li:\n",
    "        if i in num:\n",
    "            count+=1\n",
    "            if max<count:\n",
    "                max=count\n",
    "                number=i\n",
    "        else:\n",
    "            num.append(i)\n",
    "            count=1\n",
    "            if max<count:\n",
    "                max=count\n",
    "                number=i\n",
    "    return number,max\n",
    "   \n"
   ]
  },
  {
   "cell_type": "code",
   "execution_count": 22,
   "id": "c50738fa",
   "metadata": {},
   "outputs": [
    {
     "data": {
      "text/plain": [
       "(66, 5)"
      ]
     },
     "execution_count": 22,
     "metadata": {},
     "output_type": "execute_result"
    }
   ],
   "source": [
    "mode(li)"
   ]
  },
  {
   "cell_type": "code",
   "execution_count": null,
   "id": "25af88ec",
   "metadata": {},
   "outputs": [],
   "source": []
  },
  {
   "cell_type": "code",
   "execution_count": null,
   "id": "c8e9f870",
   "metadata": {},
   "outputs": [],
   "source": []
  }
 ],
 "metadata": {
  "kernelspec": {
   "display_name": "base",
   "language": "python",
   "name": "python3"
  },
  "language_info": {
   "codemirror_mode": {
    "name": "ipython",
    "version": 3
   },
   "file_extension": ".py",
   "mimetype": "text/x-python",
   "name": "python",
   "nbconvert_exporter": "python",
   "pygments_lexer": "ipython3",
   "version": "3.11.5"
  }
 },
 "nbformat": 4,
 "nbformat_minor": 5
}
