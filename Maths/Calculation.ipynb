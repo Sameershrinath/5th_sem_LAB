{
 "cells": [
  {
   "cell_type": "markdown",
   "id": "ee1fc5b0",
   "metadata": {},
   "source": [
    "# **Formula application and logic building**"
   ]
  },
  {
   "cell_type": "markdown",
   "id": "e4689a65",
   "metadata": {},
   "source": [
    "## Mean Median Mode"
   ]
  },
  {
   "cell_type": "code",
   "execution_count": 10,
   "id": "2456f430",
   "metadata": {},
   "outputs": [],
   "source": [
    "import random \n",
    "li=[random.randint(1,100) for i in range(100)]\n",
    "n=len(li)//2\n",
    "li.sort()\n",
    "Mean=sum(li)/len(li)\n",
    "median=(li[n]+li[n+1])/2"
   ]
  },
  {
   "cell_type": "code",
   "execution_count": 21,
   "id": "a26c0067",
   "metadata": {},
   "outputs": [],
   "source": [
    "def mode(li):\n",
    "    max=0\n",
    "    number=0\n",
    "    count=0\n",
    "    num=[]\n",
    "    for i in li:\n",
    "        if i in num:\n",
    "            count+=1\n",
    "            if max<count:\n",
    "                max=count\n",
    "                number=i\n",
    "        else:\n",
    "            num.append(i)\n",
    "            count=1\n",
    "            if max<count:\n",
    "                max=count\n",
    "                number=i\n",
    "    return number,max\n",
    "   \n"
   ]
  },
  {
   "cell_type": "code",
   "execution_count": 25,
   "id": "c50738fa",
   "metadata": {},
   "outputs": [
    {
     "name": "stdout",
     "output_type": "stream",
     "text": [
      "Mode   :  (66, 5)\n",
      "Mean   :  52.89\n",
      "Median :  60.0\n"
     ]
    }
   ],
   "source": [
    "print(\"Mode   : \",mode(li))\n",
    "print(\"Mean   : \",Mean)\n",
    "print(\"Median : \",median)"
   ]
  },
  {
   "cell_type": "markdown",
   "id": "337e6785",
   "metadata": {},
   "source": [
    "Matrix calculations"
   ]
  },
  {
   "cell_type": "code",
   "execution_count": null,
   "id": "25af88ec",
   "metadata": {},
   "outputs": [],
   "source": [
    "import numpy as np \n",
    "arr1=np.array([\n",
    "    [1,2,3],\n",
    "    [7,8,9],\n",
    "    [5,3,9]\n",
    "])\n",
    "arr2=np.array([\n",
    "    [13,52,23],\n",
    "    [71,18,34],\n",
    "    [23,12,14]  \n",
    "])"
   ]
  },
  {
   "cell_type": "code",
   "execution_count": 37,
   "id": "c8e9f870",
   "metadata": {},
   "outputs": [
    {
     "name": "stdout",
     "output_type": "stream",
     "text": [
      "(3, 3)\n",
      "(3, 3)\n"
     ]
    }
   ],
   "source": [
    "print(arr1.shape)\n",
    "print(arr2.shape)"
   ]
  },
  {
   "cell_type": "code",
   "execution_count": 47,
   "id": "6ebe97d6",
   "metadata": {},
   "outputs": [],
   "source": [
    "col1=[]\n",
    "temp=0\n",
    "for i in range(arr1.shape[0]):\n",
    "    temp=0\n",
    "    for j in range(arr1.shape[1]):\n",
    "        num=arr1[i][j]*arr2[j][i]\n",
    "        temp+=num\n",
    "    col1.append(temp)"
   ]
  },
  {
   "cell_type": "code",
   "execution_count": 48,
   "id": "1a8049ab",
   "metadata": {},
   "outputs": [
    {
     "data": {
      "text/plain": [
       "[np.int64(224), np.int64(616), np.int64(343)]"
      ]
     },
     "execution_count": 48,
     "metadata": {},
     "output_type": "execute_result"
    }
   ],
   "source": [
    "col1"
   ]
  },
  {
   "cell_type": "code",
   "execution_count": 42,
   "id": "5403befb",
   "metadata": {},
   "outputs": [
    {
     "name": "stdout",
     "output_type": "stream",
     "text": [
      "0 0\n",
      "1 0\n",
      "2 0\n",
      "0 1\n",
      "1 1\n",
      "2 1\n",
      "0 2\n",
      "1 2\n",
      "2 2\n"
     ]
    }
   ],
   "source": [
    "for i in range(3):\n",
    "    for j in range(3):\n",
    "        print(j,i)"
   ]
  },
  {
   "cell_type": "code",
   "execution_count": 50,
   "id": "5d490d31",
   "metadata": {},
   "outputs": [
    {
     "name": "stdout",
     "output_type": "stream",
     "text": [
      "0 0\n",
      "0 1\n",
      "0 2\n",
      "1 0\n",
      "1 1\n",
      "1 2\n",
      "2 0\n",
      "2 1\n",
      "2 2\n"
     ]
    }
   ],
   "source": [
    "for i in range(3):\n",
    "    for j in range(3):\n",
    "        print(i,j)"
   ]
  },
  {
   "cell_type": "code",
   "execution_count": null,
   "id": "bbb21cfb",
   "metadata": {},
   "outputs": [],
   "source": []
  }
 ],
 "metadata": {
  "kernelspec": {
   "display_name": "base",
   "language": "python",
   "name": "python3"
  },
  "language_info": {
   "codemirror_mode": {
    "name": "ipython",
    "version": 3
   },
   "file_extension": ".py",
   "mimetype": "text/x-python",
   "name": "python",
   "nbconvert_exporter": "python",
   "pygments_lexer": "ipython3",
   "version": "3.11.5"
  }
 },
 "nbformat": 4,
 "nbformat_minor": 5
}
