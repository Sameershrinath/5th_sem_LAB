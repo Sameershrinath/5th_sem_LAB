{
 "cells": [
  {
   "cell_type": "markdown",
   "id": "4e3168bc",
   "metadata": {},
   "source": [
    "LAB 1 <br>\n",
    "**Read an integer from the keyboard to print it out if n>=n_min and n<=n_max**"
   ]
  },
  {
   "cell_type": "code",
   "execution_count": 8,
   "id": "2e63e337",
   "metadata": {},
   "outputs": [
    {
     "name": "stdout",
     "output_type": "stream",
     "text": [
      "Not satisfying condition\n"
     ]
    }
   ],
   "source": [
    "def comparing(num):\n",
    "    num_min=45\n",
    "    num_max=100\n",
    "    if num>=num_min and num<=num_max:\n",
    "        print(f\"Number {num} is satisfying condition.\")\n",
    "    else:\n",
    "        print(\"Not satisfying condition\")\n",
    "num=int(input(\"Enter a number\"))\n",
    "comparing(num=num)"
   ]
  },
  {
   "cell_type": "code",
   "execution_count": null,
   "id": "c4fe0d44",
   "metadata": {},
   "outputs": [],
   "source": []
  }
 ],
 "metadata": {
  "kernelspec": {
   "display_name": "base",
   "language": "python",
   "name": "python3"
  },
  "language_info": {
   "codemirror_mode": {
    "name": "ipython",
    "version": 3
   },
   "file_extension": ".py",
   "mimetype": "text/x-python",
   "name": "python",
   "nbconvert_exporter": "python",
   "pygments_lexer": "ipython3",
   "version": "3.11.5"
  }
 },
 "nbformat": 4,
 "nbformat_minor": 5
}
