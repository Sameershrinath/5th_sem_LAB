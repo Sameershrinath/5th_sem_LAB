{
 "cells": [
  {
   "cell_type": "markdown",
   "id": "4e3168bc",
   "metadata": {},
   "source": [
    "LAB 1 <br>\n",
    "**Read an integer from the keyboard to print it out if n>=n_min and n<=n_max**"
   ]
  },
  {
   "cell_type": "code",
   "execution_count": 8,
   "id": "2e63e337",
   "metadata": {},
   "outputs": [
    {
     "name": "stdout",
     "output_type": "stream",
     "text": [
      "Not satisfying condition\n"
     ]
    }
   ],
   "source": [
    "def comparing(num):\n",
    "    num_min=45\n",
    "    num_max=100\n",
    "    if num>=num_min and num<=num_max:\n",
    "        print(f\"Number {num} is satisfying condition.\")\n",
    "    else:\n",
    "        print(\"Not satisfying condition\")\n",
    "num=int(input(\"Enter a number\"))\n",
    "comparing(num=num)"
   ]
  },
  {
   "cell_type": "markdown",
   "id": "26a4fe0d",
   "metadata": {},
   "source": [
    "## LAB 2"
   ]
  },
  {
   "cell_type": "code",
   "execution_count": null,
   "id": "c4fe0d44",
   "metadata": {},
   "outputs": [],
   "source": [
    "string_value=input(\"Input any string\")\n",
    "\n",
    "count=0\n",
    "while "
   ]
  },
  {
   "cell_type": "markdown",
   "id": "98f21c47",
   "metadata": {},
   "source": [
    "\n",
    "simulator is available at site SPIM exercises.\n",
    "1. Read an integer from the keyboard and print it out if (n => n_min AND n <= n_max).\n",
    "2. Read an integer from the keyboard and print out the following as per switch-case statement Switch (n)\n",
    "{ n <= 10 print \"not a lot\" n == 12 print \"a dozen\"\n",
    "n == 13 print \"a baker's dozen\" n == 20 print \"a score\"\n",
    "n >= 100 print \"lots and lots\" n! = 42 print \"integer\"\n",
    "otherwise print \"you have the answer!â€–\n",
    " }\n",
    "3. Read a string from the keyboard and count the number of letters. Use the equivalent of following for\n",
    "loop to count number of chars. for (s1=0; str [s1] != '\\n'; ++s1)\n",
    "4. Print out a line of characters using simple procedure call.\n",
    "5. Print out a triangle of characters using recursive procedure call.\n",
    "6. Print factorial of a number using recursion.\n",
    "7. Print reverse string after reading from keyboard.\n",
    "8. Print a string after swapping case of each letter.\n",
    "9. Print an integer in binary and hex.\n",
    "10 (a). Implement bubble sort algorithm. This lab will be based on assembly programming on of RISC processor simulator SPIM. SPIM"
   ]
  }
 ],
 "metadata": {
  "kernelspec": {
   "display_name": "base",
   "language": "python",
   "name": "python3"
  },
  "language_info": {
   "codemirror_mode": {
    "name": "ipython",
    "version": 3
   },
   "file_extension": ".py",
   "mimetype": "text/x-python",
   "name": "python",
   "nbconvert_exporter": "python",
   "pygments_lexer": "ipython3",
   "version": "3.11.5"
  }
 },
 "nbformat": 4,
 "nbformat_minor": 5
}
